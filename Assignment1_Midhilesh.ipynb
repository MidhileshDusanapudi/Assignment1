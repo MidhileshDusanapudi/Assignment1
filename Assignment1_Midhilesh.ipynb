{
  "metadata": {
    "language_info": {
      "codemirror_mode": {
        "name": "python",
        "version": 3
      },
      "file_extension": ".py",
      "mimetype": "text/x-python",
      "name": "python",
      "nbconvert_exporter": "python",
      "pygments_lexer": "ipython3",
      "version": "3.8"
    },
    "kernelspec": {
      "name": "python",
      "display_name": "Python (Pyodide)",
      "language": "python"
    },
    "colab": {
      "provenance": [],
      "collapsed_sections": [],
      "include_colab_link": true
    }
  },
  "nbformat_minor": 0,
  "nbformat": 4,
  "cells": [
    {
      "cell_type": "markdown",
      "metadata": {
        "id": "view-in-github",
        "colab_type": "text"
      },
      "source": [
        "<a href=\"https://colab.research.google.com/github/MidhileshDusanapudi/Assignment1/blob/main/Assignment1_Midhilesh.ipynb\" target=\"_parent\"><img src=\"https://colab.research.google.com/assets/colab-badge.svg\" alt=\"Open In Colab\"/></a>"
      ]
    },
    {
      "cell_type": "code",
      "source": [
        "#1).\n",
        "import statistics \n",
        "\n",
        "ages = [19, 22, 19, 24, 20, 25, 26, 24, 25, 24]\n",
        "#1.\n",
        "ages.sort() #sort() used for sorting all the ages in above string\n",
        "print(\"Sorting ages\", ages)\n",
        "print(\"Max value\", max(ages)) # max() used to find the maximum value\n",
        "print(\"Minimum Value\", min(ages)) # min() used to find the minimum value\n",
        "#2.\n",
        "ages.append(min(ages))\n",
        "ages.append(max(ages)) # append() is used to add the values to the above list\n",
        "print(\" After appending minimum and maximum\", ages)\n",
        "\n",
        "#3\n",
        "print(\" Median of ages is : % s \"\n",
        "        % (statistics.median(ages))) # Median() is used to find the median value of he ages list\n",
        "#4\n",
        "sum=0\n",
        "for i in range(len(ages)):\n",
        "    sum=sum+ages[i] # Using For loop to fing the sum of all the values in the list \n",
        "print(\" Average: \", sum/len(ages)) # Finding the average using the sum and length of the list\n",
        "#5\n",
        "print(\" Range of ages is : \", max(ages)-min(ages))"
      ],
      "metadata": {
        "trusted": true,
        "id": "KVrbhbGnQ_mm",
        "colab": {
          "base_uri": "https://localhost:8080/"
        },
        "outputId": "2c9ef863-2c6e-4430-ebd6-697561d1664d"
      },
      "execution_count": 2,
      "outputs": [
        {
          "output_type": "stream",
          "name": "stdout",
          "text": [
            "Sorting ages [19, 19, 20, 22, 24, 24, 24, 25, 25, 26]\n",
            "Max value 26\n",
            "Minimum Value 19\n",
            " After appending minimum and maximum [19, 19, 20, 22, 24, 24, 24, 25, 25, 26, 19, 26]\n",
            " Median of ages is : 24.0 \n",
            " Average:  22.75\n",
            " Range of ages is :  7\n"
          ]
        }
      ]
    },
    {
      "cell_type": "code",
      "source": [
        "#2).\n",
        "dog = {} #creating an empty dict called dog\n",
        "dog = {\"name\":\"\", \"color\":\"\", \"breed\":\"\", \"legs\":\"\", \"age\":\"\"}\n",
        "print(dog)\n",
        "student = { \"first_name\": 'Midhilesh', \"last_name\": 'D' , \"gender\": 'M', \"age\": '25', \"marital status\": 'Single', \n",
        "           \"skills\":['Python','C','Javaprogramming'], \"country\":'India', \"city\": 'Vijayawada',  \"address\":' 123rd st 520003 '} #creating a dict called student and assigning values like name gender etc.\n",
        "print(student)\n",
        "print(\"Length of the student dictionary\", len(student)) #length of the student dict\n",
        "print(student.get('skills'))\n",
        "student['skills'].append(\"c++\") #adding a value to skills\n",
        "student['skills'].append(\"devops\")\n",
        "print(\"Dictionary Keys = \", student.keys())\n",
        "print(\"Dictionary Values = \", student.values())\n"
      ],
      "metadata": {
        "trusted": true,
        "id": "uQ1r0hKbQ_mn",
        "colab": {
          "base_uri": "https://localhost:8080/"
        },
        "outputId": "7e9746a9-04b3-4400-9f26-550af44affd3"
      },
      "execution_count": 23,
      "outputs": [
        {
          "output_type": "stream",
          "name": "stdout",
          "text": [
            "{'name': '', 'color': '', 'breed': '', 'legs': '', 'age': ''}\n",
            "{'first_name': 'Midhilesh', 'last_name': 'D', 'gender': 'M', 'age': '25', 'marital status': 'Single', 'skills': ['Python', 'C', 'Javaprogramming'], 'country': 'India', 'city': 'Vijayawada', 'address': ' 123rd st 520003 '}\n",
            "Length of the student dictionary 9\n",
            "['Python', 'C', 'Javaprogramming']\n",
            "Dictionary Keys =  dict_keys(['first_name', 'last_name', 'gender', 'age', 'marital status', 'skills', 'country', 'city', 'address'])\n",
            "Dictionary Values =  dict_values(['Midhilesh', 'D', 'M', '25', 'Single', ['Python', 'C', 'Javaprogramming', 'c++', 'devops'], 'India', 'Vijayawada', ' 123rd st 520003 '])\n"
          ]
        }
      ]
    },
    {
      "cell_type": "code",
      "source": [
        "#3).\n",
        "#create a tuple and assigning values \n",
        "brothers = (\"Kartheek\",\"SatyaLohith\")\n",
        "sisters = (\"Swetha\",\"Susmitha\")\n",
        "siblings = brothers+sisters #using + operator we can join two tuples\n",
        "l =  len(siblings)\n",
        "siblings1 = siblings + (\"Dnmrao\",\"Vijayalakshmi\") #using + added new values to the tuple\n",
        "family_members = siblings1 #after adding new names to siblings i assigned it to family_members \n",
        "print(\"Brothers = \", brothers)\n",
        "print(\"Sisters = \", sisters)\n",
        "print(\"I have\", l, \"siblings\")\n",
        "print(\"Siblings = \", siblings)\n",
        "print(\"Family Members = \", family_members) #displaying the all family members list"
      ],
      "metadata": {
        "id": "oV13kVj-Q_mo",
        "colab": {
          "base_uri": "https://localhost:8080/"
        },
        "outputId": "bc98120d-52a9-416b-e491-31ffe45e5f8f"
      },
      "execution_count": 4,
      "outputs": [
        {
          "output_type": "stream",
          "name": "stdout",
          "text": [
            "Brothers =  ('Kartheek', 'SatyaLohith')\n",
            "Sisters =  ('Swetha', 'Susmitha')\n",
            "I have 4 siblings\n",
            "Siblings =  ('Kartheek', 'SatyaLohith', 'Swetha', 'Susmitha')\n",
            "Family Members =  ('Kartheek', 'SatyaLohith', 'Swetha', 'Susmitha', 'Dnmrao', 'Vijayalakshmi')\n"
          ]
        }
      ]
    },
    {
      "cell_type": "code",
      "source": [
        "#4).\n",
        "it_companies = {'Facebook', 'Google', 'Microsoft', 'Apple', 'IBM', 'Oracle', 'Amazon'}\n",
        "A = {19, 22, 24, 20, 25, 26}\n",
        "B = {19, 22, 20, 25, 26, 24, 28, 27}\n",
        "age = [22, 19, 24, 25, 26, 24, 25, 24]\n",
        "\n",
        "#1\n",
        "m = len(it_companies) #length of the it companies\n",
        "print(\"1. Length of the set of IT companies = \", m)\n",
        "\n",
        "#2\n",
        "it_companies.add('Twitter') #adding a new company to it companies\n",
        "print(\"2. List of companies after adding twitter = \", it_companies)\n",
        "\n",
        "#3.\n",
        "new_companies = ['Hp','Dell','Adobe']\n",
        "it_companies.update(new_companies) #update() function is used for updating companies after adding new companies\n",
        "print(\"3. Upating companies list = \", new_companies)\n",
        "\n",
        "#4.\n",
        "it_companies.remove('Apple') #remove() returns removing a value from the it companies\n",
        "print(\"4. IT companies after removing apple = \", it_companies)\n",
        "\n",
        "#5.\n",
        "print(\"5. remove() method will raise an error if the specified item does not exist, and the discard() method will not\")\n",
        "#6.\n",
        "\n",
        "o=A.union(B) # union() returns joins tw sets A and B\n",
        "print (\"6. Join A and B = \", o)\n",
        "\n",
        "#7.\n",
        "p=A.intersection(B) #intersection() returns the common data from A and B\n",
        "print(\"7. A intersection B = \", p)\n",
        "\n",
        "#8\n",
        "print(\"8. Is A is Sub set of B ? \",A.issubset(B)) #issubset() give value weather b is subset of a or not\n",
        "\n",
        "#9.\n",
        "print(\"9. Are A and B are disjoint Sets ? \",A.isdisjoint(B)) #isdisjoint() return boolean value weather b is disjoint sets or not \n",
        "\n",
        "#10.\n",
        "joined_1 = A.union(B) #joining A with B\n",
        "joined_2 = B.union(A) #joining B with A\n",
        "print(\"10(a). Join A with B = \", joined_1)\n",
        "print(\"10(b). Join B with A = \",joined_2)\n",
        "\n",
        "#11.\n",
        "sym_diff = A.symmetric_difference(B) \n",
        "print(\"11. Symmetric difference between A and B =\", sym_diff)\n",
        "\n",
        "#12.\n",
        "del A\n",
        "del B\n",
        "\n",
        "\n",
        "#13.\n",
        "Age_Set = set(age)  # type conversion from list to set\n",
        "print(\"13(a). Coverting Ages to Set\", Age_Set)\n",
        "print(\"13(b). Difference between length of age list and length of age set is \",len(age)-len(Age_Set))\n",
        "\n"
      ],
      "metadata": {
        "id": "GedjxdoaQ_mo",
        "colab": {
          "base_uri": "https://localhost:8080/"
        },
        "outputId": "0b4c5f7b-7f23-4a46-e9fe-8894cea124a1"
      },
      "execution_count": 24,
      "outputs": [
        {
          "output_type": "stream",
          "name": "stdout",
          "text": [
            "1. Length of the set of IT companies =  7\n",
            "2. List of companies after adding twitter =  {'Facebook', 'Amazon', 'Google', 'Microsoft', 'Oracle', 'Twitter', 'Apple', 'IBM'}\n",
            "3. Upating companies list =  ['Hp', 'Dell', 'Adobe']\n",
            "4. IT companies after removing apple =  {'Facebook', 'Hp', 'Amazon', 'Google', 'Microsoft', 'Adobe', 'Dell', 'Oracle', 'Twitter', 'IBM'}\n",
            "5. remove() method will raise an error if the specified item does not exist, and the discard() method will not\n",
            "6. Join A and B =  {19, 20, 22, 24, 25, 26, 27, 28}\n",
            "7. A intersection B =  {19, 20, 22, 24, 25, 26}\n",
            "8. Is A is Sub set of B ?  True\n",
            "9. Are A and B are disjoint Sets ?  False\n",
            "10(a). Join A with B =  {19, 20, 22, 24, 25, 26, 27, 28}\n",
            "10(b). Join B with A =  {19, 20, 22, 24, 25, 26, 27, 28}\n",
            "11. Symmetric difference between A and B = {27, 28}\n",
            "13(a). Coverting Ages to Set {19, 22, 24, 25, 26}\n",
            "13(b). Difference between length of age list and length of age set is  3\n"
          ]
        }
      ]
    },
    {
      "cell_type": "code",
      "source": [
        "#5).\n",
        "\n",
        "radius1 = 30 #Given radius\n",
        " \n",
        "_area_of_circle = 3.141 * radius1 * radius1 #calc the are of circle\n",
        "print(\"Area :\",_area_of_circle)\n",
        "\n",
        "_circum_of_circle = 2 * 3.141 * radius1 #calc the Circumference of a circle\n",
        "print(\"Circumference :\",_circum_of_circle)\n",
        "\n",
        "radius2 = int(input(\"Enter the radius value: \")) #input() means entering input in console.\n",
        "Area = 3.141 * radius2 * radius2\n",
        "\n",
        "print(\"Area :\",Area) #displaying output of area for the radius value"
      ],
      "metadata": {
        "colab": {
          "base_uri": "https://localhost:8080/"
        },
        "id": "mEVevRkYRhy7",
        "outputId": "1ad8378f-54a8-4d93-d9a2-6df72c5c0237"
      },
      "execution_count": 6,
      "outputs": [
        {
          "output_type": "stream",
          "name": "stdout",
          "text": [
            "Area : 2826.9\n",
            "Circumference : 188.46\n",
            "Enter the radius value: 5\n",
            "Area : 78.525\n"
          ]
        }
      ]
    },
    {
      "cell_type": "code",
      "source": [
        "#6).\n",
        "string = 'I am a teacher and I love to inspire and teach people'  #given string\n",
        "uniq_wrd = set(string.split()) #Splits a string into a list where each word is a list item\n",
        "print(\" Unique words in given string are\", uniq_wrd)\n",
        "print(\" No.of unique words in given string are \",len(uniq_wrd)) #displaying uniq words and length of uniq words\n",
        "            "
      ],
      "metadata": {
        "trusted": true,
        "id": "ePcuyZFCQ_mo",
        "colab": {
          "base_uri": "https://localhost:8080/"
        },
        "outputId": "6139d43b-8333-4711-be8f-82f6cdbb32ce"
      },
      "execution_count": 19,
      "outputs": [
        {
          "output_type": "stream",
          "name": "stdout",
          "text": [
            " Unique words in given string are {'am', 'I', 'inspire', 'teach', 'to', 'love', 'a', 'teacher', 'and', 'people'}\n",
            " No.of unique words in given string are  10\n"
          ]
        }
      ]
    },
    {
      "cell_type": "code",
      "source": [
        "#7).\n",
        "print(\"Name\\tAge\\tCountry\\tCity\\nAsabeneh\\t250\\tFinland\\tHelsinki\")\n"
      ],
      "metadata": {
        "trusted": true,
        "id": "K_NgZJBKQ_mp",
        "colab": {
          "base_uri": "https://localhost:8080/"
        },
        "outputId": "287fb98e-841a-4a88-ee97-fd4163b81194"
      },
      "execution_count": 20,
      "outputs": [
        {
          "output_type": "stream",
          "name": "stdout",
          "text": [
            "Name\tAge\tCountry\tCity\n",
            "Asabeneh\t250\tFinland\tHelsinki\n"
          ]
        }
      ]
    },
    {
      "cell_type": "code",
      "source": [
        "#8).\n",
        "radius = 10\n",
        "area = int(3.14 * radius ** 2)\n",
        "formatted_area = 'The area of circle with radius {} is {} meters square.'.format(radius, area)  # Formatting String\n",
        "print(formatted_area)\n"
      ],
      "metadata": {
        "id": "X3azmNcBQ_mp",
        "colab": {
          "base_uri": "https://localhost:8080/"
        },
        "outputId": "c8ec149b-efce-49c1-ffdf-84bc8b96d6b5"
      },
      "execution_count": 21,
      "outputs": [
        {
          "output_type": "stream",
          "name": "stdout",
          "text": [
            "The area of circle with radius 10 is 314 meters square.\n"
          ]
        }
      ]
    },
    {
      "cell_type": "code",
      "source": [
        "#9).\n",
        "# taking input in the console\n",
        "N = int(input('Enter no of students:'))\n",
        "\n",
        "# creating two lists one for lbs and other for kgs\n",
        "lbs = []\n",
        "kgs =[]\n",
        "for i in range (0,N,1) :\n",
        "    m =  float(input('Enter the value:'))\n",
        "    list.append(m)\n",
        "\n",
        "for i in range (0,N,1):\n",
        "      n = list[i] * 0.453592\n",
        "      kgs.append(round(n,2))\n",
        "print(\" Converting weights to kgs\", kgs)"
      ],
      "metadata": {
        "id": "W219fEpoSTWD",
        "colab": {
          "base_uri": "https://localhost:8080/"
        },
        "outputId": "c186cd37-56d5-4b90-cd7d-baa6598da0bd"
      },
      "execution_count": 28,
      "outputs": [
        {
          "output_type": "stream",
          "name": "stdout",
          "text": [
            "Enter no of students:4\n",
            "Enter the value:55\n",
            "Enter the value:34\n",
            "Enter the value:23\n",
            "Enter the value:23\n",
            " Converting weights to kgs [24.95, 11.34, 10.43, 10.43]\n"
          ]
        }
      ]
    }
  ]
}